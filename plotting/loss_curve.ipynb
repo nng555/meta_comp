{
 "cells": [
  {
   "cell_type": "code",
   "execution_count": null,
   "metadata": {},
   "outputs": [],
   "source": [
    "import pandas as pd \n",
    "import matplotlib.pyplot as plt\n",
    "\n",
    "file_paths = [\n",
    "    'Losses/ld2_losses.csv',\n",
    "    'Losses/ld4_losses.csv',\n",
    "    'Losses/ld8_losses.csv',\n",
    "    'Losses/ld16_losses.csv',\n",
    "    'Losses/ld32_losses.csv',\n",
    "    'Losses/ld64_losses.csv', \n",
    "    'Losses/ld128_losses.csv'\n",
    "]\n",
    "\n",
    "# Plot the training curves for each file\n",
    "plt.figure(figsize=(12, 8))\n",
    "for file_path in file_paths:\n",
    "    df = pd.read_csv(file_path)\n",
    "    plt.plot(df['train'], label=f'Train Loss {file_path.split(\"/\")[-1].split(\"_\")[0]}')\n",
    "\n",
    "# df = pd.read_csv('Losses/ld64_losses.csv')\n",
    "# plt.figure(figsize=(10, 6))\n",
    "# plt.plot(df['train'], label='Train Loss')\n",
    "# #plt.plot(df['test'], label='Test Loss')\n",
    "plt.xlabel('Epochs')\n",
    "plt.ylabel('Loss')\n",
    "plt.title('Training and Test Loss')\n",
    "plt.legend()\n",
    "plt.show()"
   ]
  }
 ],
 "metadata": {
  "kernelspec": {
   "display_name": "llama",
   "language": "python",
   "name": "python3"
  },
  "language_info": {
   "name": "python",
   "version": "3.12.7"
  }
 },
 "nbformat": 4,
 "nbformat_minor": 2
}
