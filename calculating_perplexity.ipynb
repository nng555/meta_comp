{
 "cells": [
  {
   "cell_type": "code",
   "execution_count": 1,
   "id": "e054b3ea-1197-428e-82de-c812d0a060d2",
   "metadata": {},
   "outputs": [
    {
     "name": "stderr",
     "output_type": "stream",
     "text": [
      "/opt/miniconda3/envs/llama/lib/python3.12/site-packages/tqdm/auto.py:21: TqdmWarning: IProgress not found. Please update jupyter and ipywidgets. See https://ipywidgets.readthedocs.io/en/stable/user_install.html\n",
      "  from .autonotebook import tqdm as notebook_tqdm\n"
     ]
    }
   ],
   "source": [
    "## Imports\n",
    "\n",
    "from transformers import AutoModelForCausalLM, AutoTokenizer\n",
    "import warnings\n",
    "import torch\n",
    "import sys \n",
    "import os\n",
    "\n",
    "from models.llms import get_model "
   ]
  },
  {
   "cell_type": "code",
   "execution_count": 2,
   "id": "e4657061-8f79-4580-90fe-ef13888f0d5f",
   "metadata": {},
   "outputs": [
    {
     "name": "stdout",
     "output_type": "stream",
     "text": [
      "Model: Initializing Model, device is set to: cpu\n",
      "Model: Loading model from huggingface with huggingface id facebook/opt-125m\n",
      "Model: Setting the Max Token Length to 2048\n"
     ]
    }
   ],
   "source": [
    "model = get_model(\"OPT125M\")"
   ]
  },
  {
   "cell_type": "code",
   "execution_count": null,
   "id": "539cdf71-2da0-4661-8cba-649eab8c7deb",
   "metadata": {},
   "outputs": [
    {
     "name": "stdout",
     "output_type": "stream",
     "text": [
      "sequence length: 7009, stride = 512, max_length = 2048\n"
     ]
    },
    {
     "name": "stderr",
     "output_type": "stream",
     "text": [
      "  0%|          | 0/14 [00:00<?, ?it/s]"
     ]
    },
    {
     "name": "stdout",
     "output_type": "stream",
     "text": [
      "0 2048\n"
     ]
    },
    {
     "name": "stderr",
     "output_type": "stream",
     "text": [
      "  7%|▋         | 1/14 [00:01<00:14,  1.14s/it]"
     ]
    },
    {
     "name": "stdout",
     "output_type": "stream",
     "text": [
      "512 2560\n"
     ]
    },
    {
     "name": "stderr",
     "output_type": "stream",
     "text": [
      " 14%|█▍        | 2/14 [00:02<00:12,  1.05s/it]"
     ]
    },
    {
     "name": "stdout",
     "output_type": "stream",
     "text": [
      "1024 3072\n"
     ]
    },
    {
     "name": "stderr",
     "output_type": "stream",
     "text": [
      " 21%|██▏       | 3/14 [00:03<00:11,  1.01s/it]"
     ]
    },
    {
     "name": "stdout",
     "output_type": "stream",
     "text": [
      "1536 3584\n"
     ]
    },
    {
     "name": "stderr",
     "output_type": "stream",
     "text": [
      " 29%|██▊       | 4/14 [00:03<00:09,  1.03it/s]"
     ]
    },
    {
     "name": "stdout",
     "output_type": "stream",
     "text": [
      "2048 4096\n"
     ]
    },
    {
     "name": "stderr",
     "output_type": "stream",
     "text": [
      " 36%|███▌      | 5/14 [00:04<00:08,  1.06it/s]"
     ]
    },
    {
     "name": "stdout",
     "output_type": "stream",
     "text": [
      "2560 4608\n"
     ]
    },
    {
     "name": "stderr",
     "output_type": "stream",
     "text": [
      " 43%|████▎     | 6/14 [00:05<00:07,  1.07it/s]"
     ]
    },
    {
     "name": "stdout",
     "output_type": "stream",
     "text": [
      "3072 5120\n"
     ]
    },
    {
     "name": "stderr",
     "output_type": "stream",
     "text": [
      " 50%|█████     | 7/14 [00:06<00:06,  1.07it/s]"
     ]
    },
    {
     "name": "stdout",
     "output_type": "stream",
     "text": [
      "3584 5632\n"
     ]
    },
    {
     "name": "stderr",
     "output_type": "stream",
     "text": [
      " 57%|█████▋    | 8/14 [00:07<00:05,  1.01it/s]"
     ]
    },
    {
     "name": "stdout",
     "output_type": "stream",
     "text": [
      "4096 6144\n"
     ]
    },
    {
     "name": "stderr",
     "output_type": "stream",
     "text": [
      " 64%|██████▍   | 9/14 [00:08<00:04,  1.02it/s]"
     ]
    },
    {
     "name": "stdout",
     "output_type": "stream",
     "text": [
      "4608 6656\n"
     ]
    },
    {
     "name": "stderr",
     "output_type": "stream",
     "text": [
      " 71%|███████▏  | 10/14 [00:09<00:03,  1.03it/s]"
     ]
    },
    {
     "name": "stdout",
     "output_type": "stream",
     "text": [
      "5120 7009\n"
     ]
    },
    {
     "name": "stderr",
     "output_type": "stream",
     "text": [
      " 71%|███████▏  | 10/14 [00:10<00:04,  1.06s/it]\n"
     ]
    }
   ],
   "source": [
    "import torch\n",
    "from tqdm import tqdm\n",
    "\n",
    "## Source: https://huggingface.co/docs/transformers/perplexity \n",
    "## https://thegradient.pub/understanding-evaluation-metrics-for-language-models/\n",
    "device = \"cpu\"\n",
    "texts = [\"The Crisis There The Crisis There There There There There The Impact Of Technological Advancements On Education\\nThere is a growing trend of technological advancements in the field of education. This trend is expected to continue in the future. Some of the key drivers behind this trend include the increasing awareness of the importance of education and the availability of the necessary resources.\\nThe adoption of new technologies in education is having a profound impact on teaching, learning and assessment practices. Technology has made it possible for educators to provide more personalized instruction and for students to learn at their own pace. Additionally, the use of online resources can help students access information that may not be available in their local schools. The use of technology can also help teachers to monitor their students’ progress and provide feedback on their learning.\\nOne of the most significant impacts of technology on education is the increase in access to education. Through the use of technology, people can learn from anywhere in the world. This has particularly been significant for students in remote areas who have limited access to educational resources.\\nAnother impact of technology on education is the increase in student engagement. Students who use technology in their education can learn more effectively and gain greater insights into the subject matter. Additionally, technology has the capability of creating a more interactive learning experience.\\nThe overall impact of technology on education is positive, but there are also potential risks. One of the risks is the potential for technology to become a distraction for students. Additionally, the use of technology can create a divide between students who have access to it and those who do not. This can create an inequality in the quality of education.\\nIn conclusion, the impact of technological advancements on education is significant. Technology has the potential to change the landscape of education, making it more accessible, engaging and effective for students. However, there are also risks associated with the use of technology in education, such as potential distractions and inequality in quality of education.\\nIn conclusion, the impact of technological advancements on education is nothing short of revolutionary. The ability to connect with others and access information is an essential component of successful education. Technology has greatly improved the quality of education and will continue to do so in the future. The Crisis There The Crisis There There There There There The Impact Of Technological Advancements On Education\\nThere is a growing trend of technological advancements in the field of education. This trend is expected to continue in the future. Some of the key drivers behind this trend include the increasing awareness of the importance of education and the availability of the necessary resources.\\nThe adoption of new technologies in education is having a profound impact on teaching, learning and assessment practices. Technology has made it possible for educators to provide more personalized instruction and for students to learn at their own pace. Additionally, the use of online resources can help students access information that may not be available in their local schools. The use of technology can also help teachers to monitor their students’ progress and provide feedback on their learning.\\nOne of the most significant impacts of technology on education is the increase in access to education. Through the use of technology, people can learn from anywhere in the world. This has particularly been significant for students in remote areas who have limited access to educational resources.\\nAnother impact of technology on education is the increase in student engagement. Students who use technology in their education can learn more effectively and gain greater insights into the subject matter. Additionally, technology has the capability of creating a more interactive learning experience.\\nThe overall impact of technology on education is positive, but there are also potential risks. One of the risks is the potential for technology to become a distraction for students. Additionally, the use of technology can create a divide between students who have access to it and those who do not. This can create an inequality in the quality of education.\\nIn conclusion, the impact of technological advancements on education is significant. Technology has the potential to change the landscape of education, making it more accessible, engaging and effective for students. However, there are also risks associated with the use of technology in education, such as potential distractions and inequality in quality of education.\\nIn conclusion, the impact of technological advancements on education is nothing short of revolutionary. The ability to connect with others and access information is an essential component of successful education. Technology has greatly improved the quality of education and will continue to do so in the future.The Crisis There The Crisis There There There There There The Impact Of Technological Advancements On Education\\nThere is a growing trend of technological advancements in the field of education. This trend is expected to continue in the future. Some of the key drivers behind this trend include the increasing awareness of the importance of education and the availability of the necessary resources.\\nThe adoption of new technologies in education is having a profound impact on teaching, learning and assessment practices. Technology has made it possible for educators to provide more personalized instruction and for students to learn at their own pace. Additionally, the use of online resources can help students access information that may not be available in their local schools. The use of technology can also help teachers to monitor their students’ progress and provide feedback on their learning.\\nOne of the most significant impacts of technology on education is the increase in access to education. Through the use of technology, people can learn from anywhere in the world. This has particularly been significant for students in remote areas who have limited access to educational resources.\\nAnother impact of technology on education is the increase in student engagement. Students who use technology in their education can learn more effectively and gain greater insights into the subject matter. Additionally, technology has the capability of creating a more interactive learning experience.\\nThe overall impact of technology on education is positive, but there are also potential risks. One of the risks is the potential for technology to become a distraction for students. Additionally, the use of technology can create a divide between students who have access to it and those who do not. This can create an inequality in the quality of education.\\nIn conclusion, the impact of technological advancements on education is significant. Technology has the potential to change the landscape of education, making it more accessible, engaging and effective for students. However, there are also risks associated with the use of technology in education, such as potential distractions and inequality in quality of education.\\nIn conclusion, the impact of technological advancements on education is nothing short of revolutionary. The ability to connect with others and access information is an essential component of successful education. Technology has greatly improved the quality of education and will continue to do so in the future. The Crisis There The Crisis There There There There There The Impact Of Technological Advancements On Education\\nThere is a growing trend of technological advancements in the field of education. This trend is expected to continue in the future. Some of the key drivers behind this trend include the increasing awareness of the importance of education and the availability of the necessary resources.\\nThe adoption of new technologies in education is having a profound impact on teaching, learning and assessment practices. Technology has made it possible for educators to provide more personalized instruction and for students to learn at their own pace. Additionally, the use of online resources can help students access information that may not be available in their local schools. The use of technology can also help teachers to monitor their students’ progress and provide feedback on their learning.\\nOne of the most significant impacts of technology on education is the increase in access to education. Through the use of technology, people can learn from anywhere in the world. This has particularly been significant for students in remote areas who have limited access to educational resources.\\nAnother impact of technology on education is the increase in student engagement. Students who use technology in their education can learn more effectively and gain greater insights into the subject matter. Additionally, technology has the capability of creating a more interactive learning experience.\\nThe overall impact of technology on education is positive, but there are also potential risks. One of the risks is the potential for technology to become a distraction for students. Additionally, the use of technology can create a divide between students who have access to it and those who do not. This can create an inequality in the quality of education.\\nIn conclusion, the impact of technological advancements on education is significant. Technology has the potential to change the landscape of education, making it more accessible, engaging and effective for students. However, there are also risks associated with the use of technology in education, such as potential distractions and inequality in quality of education.\\nIn conclusion, the impact of technological advancements on education is nothing short of revolutionary. The ability to connect with others and access information is an essential component of successful education. Technology has greatly improved the quality of education and will continue to do so in the future.The Crisis There The Crisis There There There There There The Impact Of Technological Advancements On Education\\nThere is a growing trend of technological advancements in the field of education. This trend is expected to continue in the future. Some of the key drivers behind this trend include the increasing awareness of the importance of education and the availability of the necessary resources.\\nThe adoption of new technologies in education is having a profound impact on teaching, learning and assessment practices. Technology has made it possible for educators to provide more personalized instruction and for students to learn at their own pace. Additionally, the use of online resources can help students access information that may not be available in their local schools. The use of technology can also help teachers to monitor their students’ progress and provide feedback on their learning.\\nOne of the most significant impacts of technology on education is the increase in access to education. Through the use of technology, people can learn from anywhere in the world. This has particularly been significant for students in remote areas who have limited access to educational resources.\\nAnother impact of technology on education is the increase in student engagement. Students who use technology in their education can learn more effectively and gain greater insights into the subject matter. Additionally, technology has the capability of creating a more interactive learning experience.\\nThe overall impact of technology on education is positive, but there are also potential risks. One of the risks is the potential for technology to become a distraction for students. Additionally, the use of technology can create a divide between students who have access to it and those who do not. This can create an inequality in the quality of education.\\nIn conclusion, the impact of technological advancements on education is significant. Technology has the potential to change the landscape of education, making it more accessible, engaging and effective for students. However, there are also risks associated with the use of technology in education, such as potential distractions and inequality in quality of education.\\nIn conclusion, the impact of technological advancements on education is nothing short of revolutionary. The ability to connect with others and access information is an essential component of successful education. Technology has greatly improved the quality of education and will continue to do so in the future. The Crisis There The Crisis There There There There There The Impact Of Technological Advancements On Education\\nThere is a growing trend of technological advancements in the field of education. This trend is expected to continue in the future. Some of the key drivers behind this trend include the increasing awareness of the importance of education and the availability of the necessary resources.\\nThe adoption of new technologies in education is having a profound impact on teaching, learning and assessment practices. Technology has made it possible for educators to provide more personalized instruction and for students to learn at their own pace. Additionally, the use of online resources can help students access information that may not be available in their local schools. The use of technology can also help teachers to monitor their students’ progress and provide feedback on their learning.\\nOne of the most significant impacts of technology on education is the increase in access to education. Through the use of technology, people can learn from anywhere in the world. This has particularly been significant for students in remote areas who have limited access to educational resources.\\nAnother impact of technology on education is the increase in student engagement. Students who use technology in their education can learn more effectively and gain greater insights into the subject matter. Additionally, technology has the capability of creating a more interactive learning experience.\\nThe overall impact of technology on education is positive, but there are also potential risks. One of the risks is the potential for technology to become a distraction for students. Additionally, the use of technology can create a divide between students who have access to it and those who do not. This can create an inequality in the quality of education.\\nIn conclusion, the impact of technological advancements on education is significant. Technology has the potential to change the landscape of education, making it more accessible, engaging and effective for students. However, there are also risks associated with the use of technology in education, such as potential distractions and inequality in quality of education.\\nIn conclusion, the impact of technological advancements on education is nothing short of revolutionary. The ability to connect with others and access information is an essential component of successful education. Technology has greatly improved the quality of education and will continue to do so in the future.The Crisis There The Crisis There There There There There The Impact Of Technological Advancements On Education\\nThere is a growing trend of technological advancements in the field of education. This trend is expected to continue in the future. Some of the key drivers behind this trend include the increasing awareness of the importance of education and the availability of the necessary resources.\\nThe adoption of new technologies in education is having a profound impact on teaching, learning and assessment practices. Technology has made it possible for educators to provide more personalized instruction and for students to learn at their own pace. Additionally, the use of online resources can help students access information that may not be available in their local schools. The use of technology can also help teachers to monitor their students’ progress and provide feedback on their learning.\\nOne of the most significant impacts of technology on education is the increase in access to education. Through the use of technology, people can learn from anywhere in the world. This has particularly been significant for students in remote areas who have limited access to educational resources.\\nAnother impact of technology on education is the increase in student engagement. Students who use technology in their education can learn more effectively and gain greater insights into the subject matter. Additionally, technology has the capability of creating a more interactive learning experience.\\nThe overall impact of technology on education is positive, but there are also potential risks. One of the risks is the potential for technology to become a distraction for students. Additionally, the use of technology can create a divide between students who have access to it and those who do not. This can create an inequality in the quality of education.\\nIn conclusion, the impact of technological advancements on education is significant. Technology has the potential to change the landscape of education, making it more accessible, engaging and effective for students. However, there are also risks associated with the use of technology in education, such as potential distractions and inequality in quality of education.\\nIn conclusion, the impact of technological advancements on education is nothing short of revolutionary. The ability to connect with others and access information is an essential component of successful education. Technology has greatly improved the quality of education and will continue to do so in the future. The Crisis There The Crisis There There There There There The Impact Of Technological Advancements On Education\\nThere is a growing trend of technological advancements in the field of education. This trend is expected to continue in the future. Some of the key drivers behind this trend include the increasing awareness of the importance of education and the availability of the necessary resources.\\nThe adoption of new technologies in education is having a profound impact on teaching, learning and assessment practices. Technology has made it possible for educators to provide more personalized instruction and for students to learn at their own pace. Additionally, the use of online resources can help students access information that may not be available in their local schools. The use of technology can also help teachers to monitor their students’ progress and provide feedback on their learning.\\nOne of the most significant impacts of technology on education is the increase in access to education. Through the use of technology, people can learn from anywhere in the world. This has particularly been significant for students in remote areas who have limited access to educational resources.\\nAnother impact of technology on education is the increase in student engagement. Students who use technology in their education can learn more effectively and gain greater insights into the subject matter. Additionally, technology has the capability of creating a more interactive learning experience.\\nThe overall impact of technology on education is positive, but there are also potential risks. One of the risks is the potential for technology to become a distraction for students. Additionally, the use of technology can create a divide between students who have access to it and those who do not. This can create an inequality in the quality of education.\\nIn conclusion, the impact of technological advancements on education is significant. Technology has the potential to change the landscape of education, making it more accessible, engaging and effective for students. However, there are also risks associated with the use of technology in education, such as potential distractions and inequality in quality of education.\\nIn conclusion, the impact of technological advancements on education is nothing short of revolutionary. The ability to connect with others and access information is an essential component of successful education. Technology has greatly improved the quality of education and will continue to do so in the future.The Crisis There The Crisis There There There There There The Impact Of Technological Advancements On Education\\nThere is a growing trend of technological advancements in the field of education. This trend is expected to continue in the future. Some of the key drivers behind this trend include the increasing awareness of the importance of education and the availability of the necessary resources.\\nThe adoption of new technologies in education is having a profound impact on teaching, learning and assessment practices. Technology has made it possible for educators to provide more personalized instruction and for students to learn at their own pace. Additionally, the use of online resources can help students access information that may not be available in their local schools. The use of technology can also help teachers to monitor their students’ progress and provide feedback on their learning.\\nOne of the most significant impacts of technology on education is the increase in access to education. Through the use of technology, people can learn from anywhere in the world. This has particularly been significant for students in remote areas who have limited access to educational resources.\\nAnother impact of technology on education is the increase in student engagement. Students who use technology in their education can learn more effectively and gain greater insights into the subject matter. Additionally, technology has the capability of creating a more interactive learning experience.\\nThe overall impact of technology on education is positive, but there are also potential risks. One of the risks is the potential for technology to become a distraction for students. Additionally, the use of technology can create a divide between students who have access to it and those who do not. This can create an inequality in the quality of education.\\nIn conclusion, the impact of technological advancements on education is significant. Technology has the potential to change the landscape of education, making it more accessible, engaging and effective for students. However, there are also risks associated with the use of technology in education, such as potential distractions and inequality in quality of education.\\nIn conclusion, the impact of technological advancements on education is nothing short of revolutionary. The ability to connect with others and access information is an essential component of successful education. Technology has greatly improved the quality of education and will continue to do so in the future. The Crisis There The Crisis There There There There There The Impact Of Technological Advancements On Education\\nThere is a growing trend of technological advancements in the field of education. This trend is expected to continue in the future. Some of the key drivers behind this trend include the increasing awareness of the importance of education and the availability of the necessary resources.\\nThe adoption of new technologies in education is having a profound impact on teaching, learning and assessment practices. Technology has made it possible for educators to provide more personalized instruction and for students to learn at their own pace. Additionally, the use of online resources can help students access information that may not be available in their local schools. The use of technology can also help teachers to monitor their students’ progress and provide feedback on their learning.\\nOne of the most significant impacts of technology on education is the increase in access to education. Through the use of technology, people can learn from anywhere in the world. This has particularly been significant for students in remote areas who have limited access to educational resources.\\nAnother impact of technology on education is the increase in student engagement. Students who use technology in their education can learn more effectively and gain greater insights into the subject matter. Additionally, technology has the capability of creating a more interactive learning experience.\\nThe overall impact of technology on education is positive, but there are also potential risks. One of the risks is the potential for technology to become a distraction for students. Additionally, the use of technology can create a divide between students who have access to it and those who do not. This can create an inequality in the quality of education.\\nIn conclusion, the impact of technological advancements on education is significant. Technology has the potential to change the landscape of education, making it more accessible, engaging and effective for students. However, there are also risks associated with the use of technology in education, such as potential distractions and inequality in quality of education.\\nIn conclusion, the impact of technological advancements on education is nothing short of revolutionary. The ability to connect with others and access information is an essential component of successful education. Technology has greatly improved the quality of education and will continue to do so in the future.The Crisis There The Crisis There There There There There The Impact Of Technological Advancements On Education\\nThere is a growing trend of technological advancements in the field of education. This trend is expected to continue in the future. Some of the key drivers behind this trend include the increasing awareness of the importance of education and the availability of the necessary resources.\\nThe adoption of new technologies in education is having a profound impact on teaching, learning and assessment practices. Technology has made it possible for educators to provide more personalized instruction and for students to learn at their own pace. Additionally, the use of online resources can help students access information that may not be available in their local schools. The use of technology can also help teachers to monitor their students’ progress and provide feedback on their learning.\\nOne of the most significant impacts of technology on education is the increase in access to education. Through the use of technology, people can learn from anywhere in the world. This has particularly been significant for students in remote areas who have limited access to educational resources.\\nAnother impact of technology on education is the increase in student engagement. Students who use technology in their education can learn more effectively and gain greater insights into the subject matter. Additionally, technology has the capability of creating a more interactive learning experience.\\nThe overall impact of technology on education is positive, but there are also potential risks. One of the risks is the potential for technology to become a distraction for students. Additionally, the use of technology can create a divide between students who have access to it and those who do not. This can create an inequality in the quality of education.\\nIn conclusion, the impact of technological advancements on education is significant. Technology has the potential to change the landscape of education, making it more accessible, engaging and effective for students. However, there are also risks associated with the use of technology in education, such as potential distractions and inequality in quality of education.\\nIn conclusion, the impact of technological advancements on education is nothing short of revolutionary. The ability to connect with others and access information is an essential component of successful education. Technology has greatly improved the quality of education and will continue to do so in the future. The Crisis There The Crisis There There There There There The Impact Of Technological Advancements On Education\\nThere is a growing trend of technological advancements in the field of education. This trend is expected to continue in the future. Some of the key drivers behind this trend include the increasing awareness of the importance of education and the availability of the necessary resources.\\nThe adoption of new technologies in education is having a profound impact on teaching, learning and assessment practices. Technology has made it possible for educators to provide more personalized instruction and for students to learn at their own pace. Additionally, the use of online resources can help students access information that may not be available in their local schools. The use of technology can also help teachers to monitor their students’ progress and provide feedback on their learning.\\nOne of the most significant impacts of technology on education is the increase in access to education. Through the use of technology, people can learn from anywhere in the world. This has particularly been significant for students in remote areas who have limited access to educational resources.\\nAnother impact of technology on education is the increase in student engagement. Students who use technology in their education can learn more effectively and gain greater insights into the subject matter. Additionally, technology has the capability of creating a more interactive learning experience.\\nThe overall impact of technology on education is positive, but there are also potential risks. One of the risks is the potential for technology to become a distraction for students. Additionally, the use of technology can create a divide between students who have access to it and those who do not. This can create an inequality in the quality of education.\\nIn conclusion, the impact of technological advancements on education is significant. Technology has the potential to change the landscape of education, making it more accessible, engaging and effective for students. However, there are also risks associated with the use of technology in education, such as potential distractions and inequality in quality of education.\\nIn conclusion, the impact of technological advancements on education is nothing short of revolutionary. The ability to connect with others and access information is an essential component of successful education. Technology has greatly improved the quality of education and will continue to do so in the future.The Crisis There The Crisis There There There There There The Impact Of Technological Advancements On Education\\nThere is a growing trend of technological advancements in the field of education. This trend is expected to continue in the future. Some of the key drivers behind this trend include the increasing awareness of the importance of education and the availability of the necessary resources.\\nThe adoption of new technologies in education is having a profound impact on teaching, learning and assessment practices. Technology has made it possible for educators to provide more personalized instruction and for students to learn at their own pace. Additionally, the use of online resources can help students access information that may not be available in their local schools. The use of technology can also help teachers to monitor their students’ progress and provide feedback on their learning.\\nOne of the most significant impacts of technology on education is the increase in access to education. Through the use of technology, people can learn from anywhere in the world. This has particularly been significant for students in remote areas who have limited access to educational resources.\\nAnother impact of technology on education is the increase in student engagement. Students who use technology in their education can learn more effectively and gain greater insights into the subject matter. Additionally, technology has the capability of creating a more interactive learning experience.\\nThe overall impact of technology on education is positive, but there are also potential risks. One of the risks is the potential for technology to become a distraction for students. Additionally, the use of technology can create a divide between students who have access to it and those who do not. This can create an inequality in the quality of education.\\nIn conclusion, the impact of technological advancements on education is significant. Technology has the potential to change the landscape of education, making it more accessible, engaging and effective for students. However, there are also risks associated with the use of technology in education, such as potential distractions and inequality in quality of education.\\nIn conclusion, the impact of technological advancements on education is nothing short of revolutionary. The ability to connect with others and access information is an essential component of successful education. Technology has greatly improved the quality of education and will continue to do so in the future. The Crisis There The Crisis There There There There There The Impact Of Technological Advancements On Education\\nThere is a growing trend of technological advancements in the field of education. This trend is expected to continue in the future. Some of the key drivers behind this trend include the increasing awareness of the importance of education and the availability of the necessary resources.\\nThe adoption of new technologies in education is having a profound impact on teaching, learning and assessment practices. Technology has made it possible for educators to provide more personalized instruction and for students to learn at their own pace. Additionally, the use of online resources can help students access information that may not be available in their local schools. The use of technology can also help teachers to monitor their students’ progress and provide feedback on their learning.\\nOne of the most significant impacts of technology on education is the increase in access to education. Through the use of technology, people can learn from anywhere in the world. This has particularly been significant for students in remote areas who have limited access to educational resources.\\nAnother impact of technology on education is the increase in student engagement. Students who use technology in their education can learn more effectively and gain greater insights into the subject matter. Additionally, technology has the capability of creating a more interactive learning experience.\\nThe overall impact of technology on education is positive, but there are also potential risks. One of the risks is the potential for technology to become a distraction for students. Additionally, the use of technology can create a divide between students who have access to it and those who do not. This can create an inequality in the quality of education.\\nIn conclusion, the impact of technological advancements on education is significant. Technology has the potential to change the landscape of education, making it more accessible, engaging and effective for students. However, there are also risks associated with the use of technology in education, such as potential distractions and inequality in quality of education.\\nIn conclusion, the impact of technological advancements on education is nothing short of revolutionary. The ability to connect with others and access information is an essential component of successful education. Technology has greatly improved the quality of education and will continue to do so in the future.The Crisis There The Crisis There There There There There The Impact Of Technological Advancements On Education\\nThere is a growing trend of technological advancements in the field of education. This trend is expected to continue in the future. Some of the key drivers behind this trend include the increasing awareness of the importance of education and the availability of the necessary resources.\\nThe adoption of new technologies in education is having a profound impact on teaching, learning and assessment practices. Technology has made it possible for educators to provide more personalized instruction and for students to learn at their own pace. Additionally, the use of online resources can help students access information that may not be available in their local schools. The use of technology can also help teachers to monitor their students’ progress and provide feedback on their learning.\\nOne of the most significant impacts of technology on education is the increase in access to education. Through the use of technology, people can learn from anywhere in the world. This has particularly been significant for students in remote areas who have limited access to educational resources.\\nAnother impact of technology on education is the increase in student engagement. Students who use technology in their education can learn more effectively and gain greater insights into the subject matter. Additionally, technology has the capability of creating a more interactive learning experience.\\nThe overall impact of technology on education is positive, but there are also potential risks. One of the risks is the potential for technology to become a distraction for students. Additionally, the use of technology can create a divide between students who have access to it and those who do not. This can create an inequality in the quality of education.\\nIn conclusion, the impact of technological advancements on education is significant. Technology has the potential to change the landscape of education, making it more accessible, engaging and effective for students. However, there are also risks associated with the use of technology in education, such as potential distractions and inequality in quality of education.\\nIn conclusion, the impact of technological advancements on education is nothing short of revolutionary. The ability to connect with others and access information is an essential component of successful education. Technology has greatly improved the quality of education and will continue to do so in the future. The Crisis There The Crisis There There There There There The Impact Of Technological Advancements On Education\\nThere is a growing trend of technological advancements in the field of education. This trend is expected to continue in the future. Some of the key drivers behind this trend include the increasing awareness of the importance of education and the availability of the necessary resources.\\nThe adoption of new technologies in education is having a profound impact on teaching, learning and assessment practices. Technology has made it possible for educators to provide more personalized instruction and for students to learn at their own pace. Additionally, the use of online resources can help students access information that may not be available in their local schools. The use of technology can also help teachers to monitor their students’ progress and provide feedback on their learning.\\nOne of the most significant impacts of technology on education is the increase in access to education. Through the use of technology, people can learn from anywhere in the world. This has particularly been significant for students in remote areas who have limited access to educational resources.\\nAnother impact of technology on education is the increase in student engagement. Students who use technology in their education can learn more effectively and gain greater insights into the subject matter. Additionally, technology has the capability of creating a more interactive learning experience.\\nThe overall impact of technology on education is positive, but there are also potential risks. One of the risks is the potential for technology to become a distraction for students. Additionally, the use of technology can create a divide between students who have access to it and those who do not. This can create an inequality in the quality of education.\\nIn conclusion, the impact of technological advancements on education is significant. Technology has the potential to change the landscape of education, making it more accessible, engaging and effective for students. However, there are also risks associated with the use of technology in education, such as potential distractions and inequality in quality of education.\\nIn conclusion, the impact of technological advancements on education is nothing short of revolutionary. The ability to connect with others and access information is an essential component of successful education. Technology has greatly improved the quality of education and will continue to do so in the future.\"]\n",
    "\n",
    "\n"
   ]
  },
  {
   "cell_type": "markdown",
   "id": "9e162e8b",
   "metadata": {},
   "source": [
    "#### Key Factors / Decisions \n",
    "\n",
    "Chosing Stride: \n",
    "\n",
    "Stride is how much you shift your window at each interval. For example, a stride of 1 moves 1 token over (range 0-5, 1-6, 2-7), while string of 5 will move 5 tokens each time (0-5, 5-10, 10-15). A smaller stride allows for more accurate perplexity computation, because it includes more context for each model's decisions and avoids boundary inflation (e.g. first token doesn't have lot of context so has an inflated perplexity / LL). A smaller stride also results in a smoother average because the loss wrt a token is averaged every time it is included in the window.  \n",
    "\n",
    "\n",
    "Context Window: \n",
    "\n",
    "Different models have different maximum context window sizes. This produces a problem when comparing models based on perpelxity on the same text. By haivng more context, models with a larger context window will probably have lower perplexity. We can't just use the same context window for all models, bc it disadvantages larger models from using their full context. We also can't just use a stride of 1 for all models bc it tends to be very very slow. A middle ground solution is to set the stride = max length /2, which mitigates the boundary inflation problem, but also allows models to use context.  "
   ]
  },
  {
   "cell_type": "code",
   "execution_count": null,
   "id": "70becf23",
   "metadata": {},
   "outputs": [
    {
     "name": "stderr",
     "output_type": "stream",
     "text": [
      " 71%|███████   | 39/55 [00:36<00:15,  1.07it/s]"
     ]
    },
    {
     "name": "stdout",
     "output_type": "stream",
     "text": [
      "Perplexity: 1.1649889945983887 \n",
      "Average NLL: 0.1527116745710373\n"
     ]
    },
    {
     "name": "stderr",
     "output_type": "stream",
     "text": [
      "\n"
     ]
    }
   ],
   "source": [
    "from tqdm import tqdm\n",
    "\n",
    "def calculate_perplexity(text, model, device=\"cpu\", verbose=False, context_window_limit=None, stride_denominator=2):\n",
    "    encodings = model.tokenizer([text], return_tensors=\"pt\")\n",
    "    if context_window_limit is not None:\n",
    "        max_length = min(model.max_token_length, context_window_limit)\n",
    "    else: \n",
    "        max_length = model.max_token_length\n",
    "\n",
    "    stride = max_length // stride_denominator\n",
    "    \n",
    "    seq_len = encodings.input_ids.size(1)\n",
    "    if verbose:\n",
    "        print(f\"sequence length: {seq_len}, stride = {stride}, max_length = {max_length}\")\n",
    "\n",
    "    nll_sum = 0.0\n",
    "    n_tokens = 0\n",
    "    prev_end_loc = 0\n",
    "\n",
    "    for begin_loc in tqdm(range(0, seq_len, stride)):\n",
    "        end_loc = min(begin_loc + max_length, seq_len)\n",
    "        trg_len = end_loc - prev_end_loc  # may be different from stride on last loop\n",
    "        input_ids = encodings.input_ids[:, begin_loc:end_loc].to(device)\n",
    "        target_ids = input_ids.clone()\n",
    "        target_ids[:, :-trg_len] = -100\n",
    "\n",
    "        if verbose:\n",
    "            print(f\"------\\nProcessing tokens from {begin_loc} to {end_loc}\")\n",
    "            print(f\"Target length (trg_len): {trg_len}\")\n",
    "            # Decode and print each token in the current input_ids\n",
    "            tokens = model.tokenizer.convert_ids_to_tokens(input_ids[0])\n",
    "            for idx, token in enumerate(tokens):\n",
    "                print(f\"    Token {idx + begin_loc}: {token}\")\n",
    "\n",
    "        with torch.no_grad():\n",
    "            outputs = model.model(input_ids, labels=target_ids)\n",
    "            neg_log_likelihood = outputs.loss\n",
    "\n",
    "        num_valid_tokens = (target_ids != -100).sum().item()  # number of valid tokens in target_ids\n",
    "        batch_size = target_ids.size(0)\n",
    "        num_loss_tokens = num_valid_tokens - batch_size  # subtract batch_size due to internal label shift\n",
    "        nll_sum += neg_log_likelihood * num_loss_tokens\n",
    "        n_tokens += num_loss_tokens\n",
    "\n",
    "        if verbose:\n",
    "            print(f\"\\nString Subset Statistics (Token Range: {begin_loc}-{end_loc}):\")\n",
    "            print(f\"    Negative Log-Likelihood: {neg_log_likelihood}\")\n",
    "            print(f\"    Number of valid tokens: {num_valid_tokens}\")\n",
    "            print(f\"    Number of loss tokens: {num_loss_tokens}\")\n",
    "            print(f\"    Accumulated NLL Sum: {nll_sum}\")\n",
    "            print(f\"    Total Tokens Processed: {n_tokens}\")\n",
    "\n",
    "        prev_end_loc = end_loc\n",
    "        if end_loc == seq_len:\n",
    "            break\n",
    "\n",
    "    avg_nll = nll_sum / n_tokens  # average negative log-likelihood per token\n",
    "    ppl = torch.exp(avg_nll)\n",
    "    if verbose:\n",
    "        print(f\"\\nCombined Statistics (over {n_tokens} Tokens):\")\n",
    "        print(f\"    Total NLL Sum: {nll_sum}\")\n",
    "        print(f\"    Average NLL: {avg_nll}\")\n",
    "        print(f\"    Perplexity: {ppl}\")\n",
    "    return ppl, avg_nll\n",
    "\n",
    "# 2: 6s \n",
    "# 4: 10s \n",
    "# 8: 24s \n",
    "# 16: 36s \n",
    "test =  \"hello I'm so excited to be here\"\n",
    "ppl, avg_nll = calculate_perplexity(text =texts[0], model = model, device = device, verbose = False, stride_denominator=16)\n",
    "print(f\"Perplexity: {ppl.item()} \\nAverage NLL: {avg_nll.item()}\")"
   ]
  },
  {
   "cell_type": "code",
   "execution_count": 76,
   "id": "adfb60b5",
   "metadata": {},
   "outputs": [
    {
     "name": "stderr",
     "output_type": "stream",
     "text": [
      " 93%|█████████▎| 204/220 [00:43<00:03,  4.65it/s]"
     ]
    },
    {
     "name": "stdout",
     "output_type": "stream",
     "text": [
      "Perplexity: 1.2589017152786255 \n",
      "Average NLL: 0.23023967444896698\n"
     ]
    },
    {
     "name": "stderr",
     "output_type": "stream",
     "text": [
      "\n"
     ]
    }
   ],
   "source": [
    "ppl, avg_nll = calculate_perplexity(text=texts[0], model=model, device=device, verbose=False, context_window_limit=512, stride_denominator=16)\n",
    "print(f\"Perplexity: {ppl.item()} \\nAverage NLL: {avg_nll.item()}\")"
   ]
  },
  {
   "cell_type": "code",
   "execution_count": 12,
   "id": "b7c0de59-7ac6-431f-ba83-acddd2b1f4a4",
   "metadata": {},
   "outputs": [
    {
     "name": "stdout",
     "output_type": "stream",
     "text": [
      "sequence length: 7009, stride = 512, max_length = 2048\n"
     ]
    },
    {
     "name": "stderr",
     "output_type": "stream",
     "text": [
      " 71%|███████▏  | 10/14 [00:10<00:04,  1.00s/it]"
     ]
    },
    {
     "name": "stdout",
     "output_type": "stream",
     "text": [
      "Perplexity: 1.1647975444793701 \n",
      "Average NLL: 0.15254734456539154\n"
     ]
    },
    {
     "name": "stderr",
     "output_type": "stream",
     "text": [
      "\n"
     ]
    }
   ],
   "source": [
    "ppl, avg_nll = calculate_perplexity(text = texts[0], model = model, device = device, verbose = True)\n",
    "print(f\"Perplexity: {ppl.item()} \\nAverage NLL: {avg_nll.item()}\")"
   ]
  }
 ],
 "metadata": {
  "kernelspec": {
   "display_name": "llama",
   "language": "python",
   "name": "python3"
  },
  "language_info": {
   "codemirror_mode": {
    "name": "ipython",
    "version": 3
   },
   "file_extension": ".py",
   "mimetype": "text/x-python",
   "name": "python",
   "nbconvert_exporter": "python",
   "pygments_lexer": "ipython3",
   "version": "3.12.7"
  }
 },
 "nbformat": 4,
 "nbformat_minor": 5
}
