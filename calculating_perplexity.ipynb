{
 "cells": [
  {
   "cell_type": "code",
   "execution_count": null,
   "id": "e054b3ea-1197-428e-82de-c812d0a060d2",
   "metadata": {},
   "outputs": [],
   "source": [
    "## Imports\n",
    "\n",
    "from transformers import AutoModelForCausalLM, AutoTokenizer\n",
    "import warnings\n",
    "import torch\n",
    "import sys \n",
    "import os\n",
    "\n",
    "from models.llms import get_model "
   ]
  },
  {
   "cell_type": "code",
   "execution_count": 5,
   "id": "e4657061-8f79-4580-90fe-ef13888f0d5f",
   "metadata": {},
   "outputs": [
    {
     "name": "stdout",
     "output_type": "stream",
     "text": [
      "Model: Initializing Model, device is set to: cpu\n",
      "Model: Loading model from huggingface with huggingface id facebook/opt-125m\n",
      "Model: Setting the Max Token Length to 2048\n"
     ]
    }
   ],
   "source": [
    "model = get_model(\"OPT125M\")"
   ]
  },
  {
   "cell_type": "code",
   "execution_count": 30,
   "id": "539cdf71-2da0-4661-8cba-649eab8c7deb",
   "metadata": {},
   "outputs": [
    {
     "name": "stdout",
     "output_type": "stream",
     "text": [
      "sequence length: 7009, stride = 512, max_length = 2048\n"
     ]
    },
    {
     "name": "stderr",
     "output_type": "stream",
     "text": [
      "  0%|                                                    | 0/14 [00:00<?, ?it/s]"
     ]
    },
    {
     "name": "stdout",
     "output_type": "stream",
     "text": [
      "0 7009\n"
     ]
    },
    {
     "name": "stderr",
     "output_type": "stream",
     "text": [
      "  7%|███▏                                        | 1/14 [00:05<01:10,  5.44s/it]"
     ]
    },
    {
     "name": "stdout",
     "output_type": "stream",
     "text": [
      "512 2048\n"
     ]
    },
    {
     "name": "stderr",
     "output_type": "stream",
     "text": [
      " 14%|██████▎                                     | 2/14 [00:10<01:05,  5.43s/it]"
     ]
    },
    {
     "name": "stdout",
     "output_type": "stream",
     "text": [
      "1024 2560\n"
     ]
    },
    {
     "name": "stderr",
     "output_type": "stream",
     "text": [
      " 21%|█████████▍                                  | 3/14 [00:16<01:00,  5.47s/it]"
     ]
    },
    {
     "name": "stdout",
     "output_type": "stream",
     "text": [
      "1536 3072\n"
     ]
    },
    {
     "name": "stderr",
     "output_type": "stream",
     "text": [
      " 29%|████████████▌                               | 4/14 [00:21<00:54,  5.46s/it]"
     ]
    },
    {
     "name": "stdout",
     "output_type": "stream",
     "text": [
      "2048 3584\n"
     ]
    },
    {
     "name": "stderr",
     "output_type": "stream",
     "text": [
      " 36%|███████████████▋                            | 5/14 [00:27<00:49,  5.45s/it]"
     ]
    },
    {
     "name": "stdout",
     "output_type": "stream",
     "text": [
      "2560 4096\n"
     ]
    },
    {
     "name": "stderr",
     "output_type": "stream",
     "text": [
      " 43%|██████████████████▊                         | 6/14 [00:32<00:43,  5.46s/it]"
     ]
    },
    {
     "name": "stdout",
     "output_type": "stream",
     "text": [
      "3072 4608\n"
     ]
    },
    {
     "name": "stderr",
     "output_type": "stream",
     "text": [
      " 50%|██████████████████████                      | 7/14 [00:38<00:38,  5.45s/it]"
     ]
    },
    {
     "name": "stdout",
     "output_type": "stream",
     "text": [
      "3584 5120\n"
     ]
    },
    {
     "name": "stderr",
     "output_type": "stream",
     "text": [
      " 57%|█████████████████████████▏                  | 8/14 [00:43<00:32,  5.49s/it]"
     ]
    },
    {
     "name": "stdout",
     "output_type": "stream",
     "text": [
      "4096 5632\n"
     ]
    },
    {
     "name": "stderr",
     "output_type": "stream",
     "text": [
      " 64%|████████████████████████████▎               | 9/14 [00:49<00:27,  5.50s/it]"
     ]
    },
    {
     "name": "stdout",
     "output_type": "stream",
     "text": [
      "4608 6144\n"
     ]
    },
    {
     "name": "stderr",
     "output_type": "stream",
     "text": [
      " 71%|██████████████████████████████▋            | 10/14 [00:54<00:21,  5.49s/it]"
     ]
    },
    {
     "name": "stdout",
     "output_type": "stream",
     "text": [
      "5120 6656\n"
     ]
    },
    {
     "name": "stderr",
     "output_type": "stream",
     "text": [
      " 71%|██████████████████████████████▋            | 10/14 [00:59<00:23,  5.96s/it]\n"
     ]
    }
   ],
   "source": [
    "import torch\n",
    "from tqdm import tqdm\n",
    "\n",
    "## Source: https://huggingface.co/docs/transformers/perplexity \n",
    "## https://thegradient.pub/understanding-evaluation-metrics-for-language-models/\n",
    "device = \"cpu\"\n",
    "texts = [\"The Crisis There The Crisis There There There There There The Impact Of Technological Advancements On Education\\nThere is a growing trend of technological advancements in the field of education. This trend is expected to continue in the future. Some of the key drivers behind this trend include the increasing awareness of the importance of education and the availability of the necessary resources.\\nThe adoption of new technologies in education is having a profound impact on teaching, learning and assessment practices. Technology has made it possible for educators to provide more personalized instruction and for students to learn at their own pace. Additionally, the use of online resources can help students access information that may not be available in their local schools. The use of technology can also help teachers to monitor their students’ progress and provide feedback on their learning.\\nOne of the most significant impacts of technology on education is the increase in access to education. Through the use of technology, people can learn from anywhere in the world. This has particularly been significant for students in remote areas who have limited access to educational resources.\\nAnother impact of technology on education is the increase in student engagement. Students who use technology in their education can learn more effectively and gain greater insights into the subject matter. Additionally, technology has the capability of creating a more interactive learning experience.\\nThe overall impact of technology on education is positive, but there are also potential risks. One of the risks is the potential for technology to become a distraction for students. Additionally, the use of technology can create a divide between students who have access to it and those who do not. This can create an inequality in the quality of education.\\nIn conclusion, the impact of technological advancements on education is significant. Technology has the potential to change the landscape of education, making it more accessible, engaging and effective for students. However, there are also risks associated with the use of technology in education, such as potential distractions and inequality in quality of education.\\nIn conclusion, the impact of technological advancements on education is nothing short of revolutionary. The ability to connect with others and access information is an essential component of successful education. Technology has greatly improved the quality of education and will continue to do so in the future. The Crisis There The Crisis There There There There There The Impact Of Technological Advancements On Education\\nThere is a growing trend of technological advancements in the field of education. This trend is expected to continue in the future. Some of the key drivers behind this trend include the increasing awareness of the importance of education and the availability of the necessary resources.\\nThe adoption of new technologies in education is having a profound impact on teaching, learning and assessment practices. Technology has made it possible for educators to provide more personalized instruction and for students to learn at their own pace. Additionally, the use of online resources can help students access information that may not be available in their local schools. The use of technology can also help teachers to monitor their students’ progress and provide feedback on their learning.\\nOne of the most significant impacts of technology on education is the increase in access to education. Through the use of technology, people can learn from anywhere in the world. This has particularly been significant for students in remote areas who have limited access to educational resources.\\nAnother impact of technology on education is the increase in student engagement. Students who use technology in their education can learn more effectively and gain greater insights into the subject matter. Additionally, technology has the capability of creating a more interactive learning experience.\\nThe overall impact of technology on education is positive, but there are also potential risks. One of the risks is the potential for technology to become a distraction for students. Additionally, the use of technology can create a divide between students who have access to it and those who do not. This can create an inequality in the quality of education.\\nIn conclusion, the impact of technological advancements on education is significant. Technology has the potential to change the landscape of education, making it more accessible, engaging and effective for students. However, there are also risks associated with the use of technology in education, such as potential distractions and inequality in quality of education.\\nIn conclusion, the impact of technological advancements on education is nothing short of revolutionary. The ability to connect with others and access information is an essential component of successful education. Technology has greatly improved the quality of education and will continue to do so in the future.The Crisis There The Crisis There There There There There The Impact Of Technological Advancements On Education\\nThere is a growing trend of technological advancements in the field of education. This trend is expected to continue in the future. Some of the key drivers behind this trend include the increasing awareness of the importance of education and the availability of the necessary resources.\\nThe adoption of new technologies in education is having a profound impact on teaching, learning and assessment practices. Technology has made it possible for educators to provide more personalized instruction and for students to learn at their own pace. Additionally, the use of online resources can help students access information that may not be available in their local schools. The use of technology can also help teachers to monitor their students’ progress and provide feedback on their learning.\\nOne of the most significant impacts of technology on education is the increase in access to education. Through the use of technology, people can learn from anywhere in the world. This has particularly been significant for students in remote areas who have limited access to educational resources.\\nAnother impact of technology on education is the increase in student engagement. Students who use technology in their education can learn more effectively and gain greater insights into the subject matter. Additionally, technology has the capability of creating a more interactive learning experience.\\nThe overall impact of technology on education is positive, but there are also potential risks. One of the risks is the potential for technology to become a distraction for students. Additionally, the use of technology can create a divide between students who have access to it and those who do not. This can create an inequality in the quality of education.\\nIn conclusion, the impact of technological advancements on education is significant. Technology has the potential to change the landscape of education, making it more accessible, engaging and effective for students. However, there are also risks associated with the use of technology in education, such as potential distractions and inequality in quality of education.\\nIn conclusion, the impact of technological advancements on education is nothing short of revolutionary. The ability to connect with others and access information is an essential component of successful education. Technology has greatly improved the quality of education and will continue to do so in the future. The Crisis There The Crisis There There There There There The Impact Of Technological Advancements On Education\\nThere is a growing trend of technological advancements in the field of education. This trend is expected to continue in the future. Some of the key drivers behind this trend include the increasing awareness of the importance of education and the availability of the necessary resources.\\nThe adoption of new technologies in education is having a profound impact on teaching, learning and assessment practices. Technology has made it possible for educators to provide more personalized instruction and for students to learn at their own pace. Additionally, the use of online resources can help students access information that may not be available in their local schools. The use of technology can also help teachers to monitor their students’ progress and provide feedback on their learning.\\nOne of the most significant impacts of technology on education is the increase in access to education. Through the use of technology, people can learn from anywhere in the world. This has particularly been significant for students in remote areas who have limited access to educational resources.\\nAnother impact of technology on education is the increase in student engagement. Students who use technology in their education can learn more effectively and gain greater insights into the subject matter. Additionally, technology has the capability of creating a more interactive learning experience.\\nThe overall impact of technology on education is positive, but there are also potential risks. One of the risks is the potential for technology to become a distraction for students. Additionally, the use of technology can create a divide between students who have access to it and those who do not. This can create an inequality in the quality of education.\\nIn conclusion, the impact of technological advancements on education is significant. Technology has the potential to change the landscape of education, making it more accessible, engaging and effective for students. However, there are also risks associated with the use of technology in education, such as potential distractions and inequality in quality of education.\\nIn conclusion, the impact of technological advancements on education is nothing short of revolutionary. The ability to connect with others and access information is an essential component of successful education. Technology has greatly improved the quality of education and will continue to do so in the future.The Crisis There The Crisis There There There There There The Impact Of Technological Advancements On Education\\nThere is a growing trend of technological advancements in the field of education. This trend is expected to continue in the future. Some of the key drivers behind this trend include the increasing awareness of the importance of education and the availability of the necessary resources.\\nThe adoption of new technologies in education is having a profound impact on teaching, learning and assessment practices. Technology has made it possible for educators to provide more personalized instruction and for students to learn at their own pace. Additionally, the use of online resources can help students access information that may not be available in their local schools. The use of technology can also help teachers to monitor their students’ progress and provide feedback on their learning.\\nOne of the most significant impacts of technology on education is the increase in access to education. Through the use of technology, people can learn from anywhere in the world. This has particularly been significant for students in remote areas who have limited access to educational resources.\\nAnother impact of technology on education is the increase in student engagement. Students who use technology in their education can learn more effectively and gain greater insights into the subject matter. Additionally, technology has the capability of creating a more interactive learning experience.\\nThe overall impact of technology on education is positive, but there are also potential risks. One of the risks is the potential for technology to become a distraction for students. Additionally, the use of technology can create a divide between students who have access to it and those who do not. This can create an inequality in the quality of education.\\nIn conclusion, the impact of technological advancements on education is significant. Technology has the potential to change the landscape of education, making it more accessible, engaging and effective for students. However, there are also risks associated with the use of technology in education, such as potential distractions and inequality in quality of education.\\nIn conclusion, the impact of technological advancements on education is nothing short of revolutionary. The ability to connect with others and access information is an essential component of successful education. Technology has greatly improved the quality of education and will continue to do so in the future. The Crisis There The Crisis There There There There There The Impact Of Technological Advancements On Education\\nThere is a growing trend of technological advancements in the field of education. This trend is expected to continue in the future. Some of the key drivers behind this trend include the increasing awareness of the importance of education and the availability of the necessary resources.\\nThe adoption of new technologies in education is having a profound impact on teaching, learning and assessment practices. Technology has made it possible for educators to provide more personalized instruction and for students to learn at their own pace. Additionally, the use of online resources can help students access information that may not be available in their local schools. The use of technology can also help teachers to monitor their students’ progress and provide feedback on their learning.\\nOne of the most significant impacts of technology on education is the increase in access to education. Through the use of technology, people can learn from anywhere in the world. This has particularly been significant for students in remote areas who have limited access to educational resources.\\nAnother impact of technology on education is the increase in student engagement. Students who use technology in their education can learn more effectively and gain greater insights into the subject matter. Additionally, technology has the capability of creating a more interactive learning experience.\\nThe overall impact of technology on education is positive, but there are also potential risks. One of the risks is the potential for technology to become a distraction for students. Additionally, the use of technology can create a divide between students who have access to it and those who do not. This can create an inequality in the quality of education.\\nIn conclusion, the impact of technological advancements on education is significant. Technology has the potential to change the landscape of education, making it more accessible, engaging and effective for students. However, there are also risks associated with the use of technology in education, such as potential distractions and inequality in quality of education.\\nIn conclusion, the impact of technological advancements on education is nothing short of revolutionary. The ability to connect with others and access information is an essential component of successful education. Technology has greatly improved the quality of education and will continue to do so in the future.The Crisis There The Crisis There There There There There The Impact Of Technological Advancements On Education\\nThere is a growing trend of technological advancements in the field of education. This trend is expected to continue in the future. Some of the key drivers behind this trend include the increasing awareness of the importance of education and the availability of the necessary resources.\\nThe adoption of new technologies in education is having a profound impact on teaching, learning and assessment practices. Technology has made it possible for educators to provide more personalized instruction and for students to learn at their own pace. Additionally, the use of online resources can help students access information that may not be available in their local schools. The use of technology can also help teachers to monitor their students’ progress and provide feedback on their learning.\\nOne of the most significant impacts of technology on education is the increase in access to education. Through the use of technology, people can learn from anywhere in the world. This has particularly been significant for students in remote areas who have limited access to educational resources.\\nAnother impact of technology on education is the increase in student engagement. Students who use technology in their education can learn more effectively and gain greater insights into the subject matter. Additionally, technology has the capability of creating a more interactive learning experience.\\nThe overall impact of technology on education is positive, but there are also potential risks. One of the risks is the potential for technology to become a distraction for students. Additionally, the use of technology can create a divide between students who have access to it and those who do not. This can create an inequality in the quality of education.\\nIn conclusion, the impact of technological advancements on education is significant. Technology has the potential to change the landscape of education, making it more accessible, engaging and effective for students. However, there are also risks associated with the use of technology in education, such as potential distractions and inequality in quality of education.\\nIn conclusion, the impact of technological advancements on education is nothing short of revolutionary. The ability to connect with others and access information is an essential component of successful education. Technology has greatly improved the quality of education and will continue to do so in the future. The Crisis There The Crisis There There There There There The Impact Of Technological Advancements On Education\\nThere is a growing trend of technological advancements in the field of education. This trend is expected to continue in the future. Some of the key drivers behind this trend include the increasing awareness of the importance of education and the availability of the necessary resources.\\nThe adoption of new technologies in education is having a profound impact on teaching, learning and assessment practices. Technology has made it possible for educators to provide more personalized instruction and for students to learn at their own pace. Additionally, the use of online resources can help students access information that may not be available in their local schools. The use of technology can also help teachers to monitor their students’ progress and provide feedback on their learning.\\nOne of the most significant impacts of technology on education is the increase in access to education. Through the use of technology, people can learn from anywhere in the world. This has particularly been significant for students in remote areas who have limited access to educational resources.\\nAnother impact of technology on education is the increase in student engagement. Students who use technology in their education can learn more effectively and gain greater insights into the subject matter. Additionally, technology has the capability of creating a more interactive learning experience.\\nThe overall impact of technology on education is positive, but there are also potential risks. One of the risks is the potential for technology to become a distraction for students. Additionally, the use of technology can create a divide between students who have access to it and those who do not. This can create an inequality in the quality of education.\\nIn conclusion, the impact of technological advancements on education is significant. Technology has the potential to change the landscape of education, making it more accessible, engaging and effective for students. However, there are also risks associated with the use of technology in education, such as potential distractions and inequality in quality of education.\\nIn conclusion, the impact of technological advancements on education is nothing short of revolutionary. The ability to connect with others and access information is an essential component of successful education. Technology has greatly improved the quality of education and will continue to do so in the future.The Crisis There The Crisis There There There There There The Impact Of Technological Advancements On Education\\nThere is a growing trend of technological advancements in the field of education. This trend is expected to continue in the future. Some of the key drivers behind this trend include the increasing awareness of the importance of education and the availability of the necessary resources.\\nThe adoption of new technologies in education is having a profound impact on teaching, learning and assessment practices. Technology has made it possible for educators to provide more personalized instruction and for students to learn at their own pace. Additionally, the use of online resources can help students access information that may not be available in their local schools. The use of technology can also help teachers to monitor their students’ progress and provide feedback on their learning.\\nOne of the most significant impacts of technology on education is the increase in access to education. Through the use of technology, people can learn from anywhere in the world. This has particularly been significant for students in remote areas who have limited access to educational resources.\\nAnother impact of technology on education is the increase in student engagement. Students who use technology in their education can learn more effectively and gain greater insights into the subject matter. Additionally, technology has the capability of creating a more interactive learning experience.\\nThe overall impact of technology on education is positive, but there are also potential risks. One of the risks is the potential for technology to become a distraction for students. Additionally, the use of technology can create a divide between students who have access to it and those who do not. This can create an inequality in the quality of education.\\nIn conclusion, the impact of technological advancements on education is significant. Technology has the potential to change the landscape of education, making it more accessible, engaging and effective for students. However, there are also risks associated with the use of technology in education, such as potential distractions and inequality in quality of education.\\nIn conclusion, the impact of technological advancements on education is nothing short of revolutionary. The ability to connect with others and access information is an essential component of successful education. Technology has greatly improved the quality of education and will continue to do so in the future. The Crisis There The Crisis There There There There There The Impact Of Technological Advancements On Education\\nThere is a growing trend of technological advancements in the field of education. This trend is expected to continue in the future. Some of the key drivers behind this trend include the increasing awareness of the importance of education and the availability of the necessary resources.\\nThe adoption of new technologies in education is having a profound impact on teaching, learning and assessment practices. Technology has made it possible for educators to provide more personalized instruction and for students to learn at their own pace. Additionally, the use of online resources can help students access information that may not be available in their local schools. The use of technology can also help teachers to monitor their students’ progress and provide feedback on their learning.\\nOne of the most significant impacts of technology on education is the increase in access to education. Through the use of technology, people can learn from anywhere in the world. This has particularly been significant for students in remote areas who have limited access to educational resources.\\nAnother impact of technology on education is the increase in student engagement. Students who use technology in their education can learn more effectively and gain greater insights into the subject matter. Additionally, technology has the capability of creating a more interactive learning experience.\\nThe overall impact of technology on education is positive, but there are also potential risks. One of the risks is the potential for technology to become a distraction for students. Additionally, the use of technology can create a divide between students who have access to it and those who do not. This can create an inequality in the quality of education.\\nIn conclusion, the impact of technological advancements on education is significant. Technology has the potential to change the landscape of education, making it more accessible, engaging and effective for students. However, there are also risks associated with the use of technology in education, such as potential distractions and inequality in quality of education.\\nIn conclusion, the impact of technological advancements on education is nothing short of revolutionary. The ability to connect with others and access information is an essential component of successful education. Technology has greatly improved the quality of education and will continue to do so in the future.The Crisis There The Crisis There There There There There The Impact Of Technological Advancements On Education\\nThere is a growing trend of technological advancements in the field of education. This trend is expected to continue in the future. Some of the key drivers behind this trend include the increasing awareness of the importance of education and the availability of the necessary resources.\\nThe adoption of new technologies in education is having a profound impact on teaching, learning and assessment practices. Technology has made it possible for educators to provide more personalized instruction and for students to learn at their own pace. Additionally, the use of online resources can help students access information that may not be available in their local schools. The use of technology can also help teachers to monitor their students’ progress and provide feedback on their learning.\\nOne of the most significant impacts of technology on education is the increase in access to education. Through the use of technology, people can learn from anywhere in the world. This has particularly been significant for students in remote areas who have limited access to educational resources.\\nAnother impact of technology on education is the increase in student engagement. Students who use technology in their education can learn more effectively and gain greater insights into the subject matter. Additionally, technology has the capability of creating a more interactive learning experience.\\nThe overall impact of technology on education is positive, but there are also potential risks. One of the risks is the potential for technology to become a distraction for students. Additionally, the use of technology can create a divide between students who have access to it and those who do not. This can create an inequality in the quality of education.\\nIn conclusion, the impact of technological advancements on education is significant. Technology has the potential to change the landscape of education, making it more accessible, engaging and effective for students. However, there are also risks associated with the use of technology in education, such as potential distractions and inequality in quality of education.\\nIn conclusion, the impact of technological advancements on education is nothing short of revolutionary. The ability to connect with others and access information is an essential component of successful education. Technology has greatly improved the quality of education and will continue to do so in the future. The Crisis There The Crisis There There There There There The Impact Of Technological Advancements On Education\\nThere is a growing trend of technological advancements in the field of education. This trend is expected to continue in the future. Some of the key drivers behind this trend include the increasing awareness of the importance of education and the availability of the necessary resources.\\nThe adoption of new technologies in education is having a profound impact on teaching, learning and assessment practices. Technology has made it possible for educators to provide more personalized instruction and for students to learn at their own pace. Additionally, the use of online resources can help students access information that may not be available in their local schools. The use of technology can also help teachers to monitor their students’ progress and provide feedback on their learning.\\nOne of the most significant impacts of technology on education is the increase in access to education. Through the use of technology, people can learn from anywhere in the world. This has particularly been significant for students in remote areas who have limited access to educational resources.\\nAnother impact of technology on education is the increase in student engagement. Students who use technology in their education can learn more effectively and gain greater insights into the subject matter. Additionally, technology has the capability of creating a more interactive learning experience.\\nThe overall impact of technology on education is positive, but there are also potential risks. One of the risks is the potential for technology to become a distraction for students. Additionally, the use of technology can create a divide between students who have access to it and those who do not. This can create an inequality in the quality of education.\\nIn conclusion, the impact of technological advancements on education is significant. Technology has the potential to change the landscape of education, making it more accessible, engaging and effective for students. However, there are also risks associated with the use of technology in education, such as potential distractions and inequality in quality of education.\\nIn conclusion, the impact of technological advancements on education is nothing short of revolutionary. The ability to connect with others and access information is an essential component of successful education. Technology has greatly improved the quality of education and will continue to do so in the future.The Crisis There The Crisis There There There There There The Impact Of Technological Advancements On Education\\nThere is a growing trend of technological advancements in the field of education. This trend is expected to continue in the future. Some of the key drivers behind this trend include the increasing awareness of the importance of education and the availability of the necessary resources.\\nThe adoption of new technologies in education is having a profound impact on teaching, learning and assessment practices. Technology has made it possible for educators to provide more personalized instruction and for students to learn at their own pace. Additionally, the use of online resources can help students access information that may not be available in their local schools. The use of technology can also help teachers to monitor their students’ progress and provide feedback on their learning.\\nOne of the most significant impacts of technology on education is the increase in access to education. Through the use of technology, people can learn from anywhere in the world. This has particularly been significant for students in remote areas who have limited access to educational resources.\\nAnother impact of technology on education is the increase in student engagement. Students who use technology in their education can learn more effectively and gain greater insights into the subject matter. Additionally, technology has the capability of creating a more interactive learning experience.\\nThe overall impact of technology on education is positive, but there are also potential risks. One of the risks is the potential for technology to become a distraction for students. Additionally, the use of technology can create a divide between students who have access to it and those who do not. This can create an inequality in the quality of education.\\nIn conclusion, the impact of technological advancements on education is significant. Technology has the potential to change the landscape of education, making it more accessible, engaging and effective for students. However, there are also risks associated with the use of technology in education, such as potential distractions and inequality in quality of education.\\nIn conclusion, the impact of technological advancements on education is nothing short of revolutionary. The ability to connect with others and access information is an essential component of successful education. Technology has greatly improved the quality of education and will continue to do so in the future. The Crisis There The Crisis There There There There There The Impact Of Technological Advancements On Education\\nThere is a growing trend of technological advancements in the field of education. This trend is expected to continue in the future. Some of the key drivers behind this trend include the increasing awareness of the importance of education and the availability of the necessary resources.\\nThe adoption of new technologies in education is having a profound impact on teaching, learning and assessment practices. Technology has made it possible for educators to provide more personalized instruction and for students to learn at their own pace. Additionally, the use of online resources can help students access information that may not be available in their local schools. The use of technology can also help teachers to monitor their students’ progress and provide feedback on their learning.\\nOne of the most significant impacts of technology on education is the increase in access to education. Through the use of technology, people can learn from anywhere in the world. This has particularly been significant for students in remote areas who have limited access to educational resources.\\nAnother impact of technology on education is the increase in student engagement. Students who use technology in their education can learn more effectively and gain greater insights into the subject matter. Additionally, technology has the capability of creating a more interactive learning experience.\\nThe overall impact of technology on education is positive, but there are also potential risks. One of the risks is the potential for technology to become a distraction for students. Additionally, the use of technology can create a divide between students who have access to it and those who do not. This can create an inequality in the quality of education.\\nIn conclusion, the impact of technological advancements on education is significant. Technology has the potential to change the landscape of education, making it more accessible, engaging and effective for students. However, there are also risks associated with the use of technology in education, such as potential distractions and inequality in quality of education.\\nIn conclusion, the impact of technological advancements on education is nothing short of revolutionary. The ability to connect with others and access information is an essential component of successful education. Technology has greatly improved the quality of education and will continue to do so in the future.The Crisis There The Crisis There There There There There The Impact Of Technological Advancements On Education\\nThere is a growing trend of technological advancements in the field of education. This trend is expected to continue in the future. Some of the key drivers behind this trend include the increasing awareness of the importance of education and the availability of the necessary resources.\\nThe adoption of new technologies in education is having a profound impact on teaching, learning and assessment practices. Technology has made it possible for educators to provide more personalized instruction and for students to learn at their own pace. Additionally, the use of online resources can help students access information that may not be available in their local schools. The use of technology can also help teachers to monitor their students’ progress and provide feedback on their learning.\\nOne of the most significant impacts of technology on education is the increase in access to education. Through the use of technology, people can learn from anywhere in the world. This has particularly been significant for students in remote areas who have limited access to educational resources.\\nAnother impact of technology on education is the increase in student engagement. Students who use technology in their education can learn more effectively and gain greater insights into the subject matter. Additionally, technology has the capability of creating a more interactive learning experience.\\nThe overall impact of technology on education is positive, but there are also potential risks. One of the risks is the potential for technology to become a distraction for students. Additionally, the use of technology can create a divide between students who have access to it and those who do not. This can create an inequality in the quality of education.\\nIn conclusion, the impact of technological advancements on education is significant. Technology has the potential to change the landscape of education, making it more accessible, engaging and effective for students. However, there are also risks associated with the use of technology in education, such as potential distractions and inequality in quality of education.\\nIn conclusion, the impact of technological advancements on education is nothing short of revolutionary. The ability to connect with others and access information is an essential component of successful education. Technology has greatly improved the quality of education and will continue to do so in the future. The Crisis There The Crisis There There There There There The Impact Of Technological Advancements On Education\\nThere is a growing trend of technological advancements in the field of education. This trend is expected to continue in the future. Some of the key drivers behind this trend include the increasing awareness of the importance of education and the availability of the necessary resources.\\nThe adoption of new technologies in education is having a profound impact on teaching, learning and assessment practices. Technology has made it possible for educators to provide more personalized instruction and for students to learn at their own pace. Additionally, the use of online resources can help students access information that may not be available in their local schools. The use of technology can also help teachers to monitor their students’ progress and provide feedback on their learning.\\nOne of the most significant impacts of technology on education is the increase in access to education. Through the use of technology, people can learn from anywhere in the world. This has particularly been significant for students in remote areas who have limited access to educational resources.\\nAnother impact of technology on education is the increase in student engagement. Students who use technology in their education can learn more effectively and gain greater insights into the subject matter. Additionally, technology has the capability of creating a more interactive learning experience.\\nThe overall impact of technology on education is positive, but there are also potential risks. One of the risks is the potential for technology to become a distraction for students. Additionally, the use of technology can create a divide between students who have access to it and those who do not. This can create an inequality in the quality of education.\\nIn conclusion, the impact of technological advancements on education is significant. Technology has the potential to change the landscape of education, making it more accessible, engaging and effective for students. However, there are also risks associated with the use of technology in education, such as potential distractions and inequality in quality of education.\\nIn conclusion, the impact of technological advancements on education is nothing short of revolutionary. The ability to connect with others and access information is an essential component of successful education. Technology has greatly improved the quality of education and will continue to do so in the future.\"]\n",
    "encodings = model.tokenizer(texts, return_tensors=\"pt\")\n",
    "\n",
    "max_length = model.max_token_length\n",
    "stride = 512\n",
    "seq_len = encodings.input_ids.size(1)\n",
    "print(f\"sequence length: {seq_len}, stride = {stride}, max_length = {max_length}\")\n",
    "\n",
    "nll_sum = 0.0\n",
    "n_tokens = 0\n",
    "prev_end_loc = 0\n",
    "for begin_loc in tqdm(range(0, seq_len, stride)):\n",
    "    print(begin_loc, end_loc)\n",
    "    end_loc = min(begin_loc + max_length, seq_len)\n",
    "    trg_len = end_loc - prev_end_loc  # may be different from stride on last loop\n",
    "    input_ids = encodings.input_ids[:, begin_loc:end_loc].to(device)\n",
    "    target_ids = input_ids.clone()\n",
    "    target_ids[:, :-trg_len] = -100\n",
    "\n",
    "    with torch.no_grad():\n",
    "        outputs = model.model(input_ids, labels=target_ids)\n",
    "\n",
    "        # loss is calculated using CrossEntropyLoss which averages over valid labels\n",
    "        # N.B. the model only calculates loss over trg_len - 1 labels, because it internally shifts the labels\n",
    "        # to the left by 1.\n",
    "        neg_log_likelihood = outputs.loss\n",
    "\n",
    "    # Accumulate the total negative log-likelihood and the total number of tokens\n",
    "    num_valid_tokens = (target_ids != -100).sum().item()  # number of valid tokens in target_ids\n",
    "    batch_size = target_ids.size(0)\n",
    "    num_loss_tokens = num_valid_tokens - batch_size  # subtract batch_size due to internal label shift\n",
    "    nll_sum += neg_log_likelihood * num_loss_tokens\n",
    "    n_tokens += num_loss_tokens\n",
    "\n",
    "    prev_end_loc = end_loc\n",
    "    if end_loc == seq_len:\n",
    "        break\n",
    "\n",
    "avg_nll = nll_sum / n_tokens  # average negative log-likelihood per token\n",
    "ppl = torch.exp(avg_nll)"
   ]
  },
  {
   "cell_type": "code",
   "execution_count": 31,
   "id": "88778f23-6004-4a8b-bb70-dd6c96c666f0",
   "metadata": {},
   "outputs": [
    {
     "data": {
      "text/plain": [
       "tensor(0.1526)"
      ]
     },
     "execution_count": 31,
     "metadata": {},
     "output_type": "execute_result"
    }
   ],
   "source": [
    "avg_nll"
   ]
  },
  {
   "cell_type": "code",
   "execution_count": 32,
   "id": "f6b1e6df-adc8-43e3-b1a7-3be2148dc8d5",
   "metadata": {},
   "outputs": [
    {
     "data": {
      "text/plain": [
       "tensor(1.1648)"
      ]
     },
     "execution_count": 32,
     "metadata": {},
     "output_type": "execute_result"
    }
   ],
   "source": [
    "ppl"
   ]
  },
  {
   "cell_type": "code",
   "execution_count": null,
   "id": "b7c0de59-7ac6-431f-ba83-acddd2b1f4a4",
   "metadata": {},
   "outputs": [],
   "source": []
  }
 ],
 "metadata": {
  "kernelspec": {
   "display_name": "Python 3 (ipykernel)",
   "language": "python",
   "name": "python3"
  },
  "language_info": {
   "codemirror_mode": {
    "name": "ipython",
    "version": 3
   },
   "file_extension": ".py",
   "mimetype": "text/x-python",
   "name": "python",
   "nbconvert_exporter": "python",
   "pygments_lexer": "ipython3",
   "version": "3.12.3"
  }
 },
 "nbformat": 4,
 "nbformat_minor": 5
}
